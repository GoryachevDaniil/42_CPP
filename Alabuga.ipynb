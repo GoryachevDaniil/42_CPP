{
  "nbformat": 4,
  "nbformat_minor": 0,
  "metadata": {
    "colab": {
      "provenance": [],
      "authorship_tag": "ABX9TyPxgCliH7K0x8DfEdFAoLi8",
      "include_colab_link": true
    },
    "kernelspec": {
      "name": "python3",
      "display_name": "Python 3"
    },
    "language_info": {
      "name": "python"
    }
  },
  "cells": [
    {
      "cell_type": "markdown",
      "metadata": {
        "id": "view-in-github",
        "colab_type": "text"
      },
      "source": [
        "<a href=\"https://colab.research.google.com/github/GoryachevDaniil/42_CPP/blob/main/Alabuga.ipynb\" target=\"_parent\"><img src=\"https://colab.research.google.com/assets/colab-badge.svg\" alt=\"Open In Colab\"/></a>"
      ]
    },
    {
      "cell_type": "markdown",
      "source": [
        "## Task 1\n",
        "\n",
        "**введение**\n",
        "\n",
        "В базу данных записываются  события(event) в формате - json. Может быть два типа событий «start*»* и «end*»*. Когда\n",
        "оба события получены, сессия считается  завершенной «complete*»*. *Player_id* представляет собой\n",
        "уникального конечного пользователя, который может создать одну или несколько уникальных сессий (*session_id*) на протяжении всего геймплея:\n",
        "\n",
        "*{\n",
        "\"event\": \"start\",\n",
        "\"country\": \"FI\",\n",
        "\"player_id\": \"0a2d12a1a7e145de8bae44c0c6e06629\",\n",
        "\"session_id\": \"4a0c43c9-c43a-42ff-ba55-67563dfa35d4\",\n",
        "\"ts\": \"2016-12-02T12:48:05.520022\"*\n",
        "\n",
        "*},\n",
        "{*\n",
        "\n",
        "*\"event\": \"end\",\n",
        "\"player_id\": \"0a2d12a1a7e145de8bae44c0c6e06629\",\n",
        "\"session_id\": \"4a0c43c9-c43a-42ff-ba55-67563dfa35d4\",\n",
        "\"ts\": \"2016-12-02T12:49:05.520022\"*\n",
        "\n",
        "*}*\n",
        "\n",
        "● Сколько сеансов в наборе данных?\n",
        "\n",
        "● Сколько сеансов завершается в каждой стране? Выведите 10 лучших результатов, отсортированных по\n",
        "количеству (DESC) и стране (ASC).\n",
        "\n",
        "● Сколько сессий завершает каждый игрок? Выведите 10 лучших результатов, отсортированных по\n",
        "count(DESC) и player_id(ASC).\n",
        "\n",
        "● В какой стране в 2016 году было начато наибольшее количество сеансов?\n",
        "\n",
        "● График завершенных сеансов  по странам. График 10 лучших результатов, отсортированных по\n",
        "количеству (DESC) и стране (ASC)."
      ],
      "metadata": {
        "id": "xwwKidEA9k-a"
      }
    },
    {
      "cell_type": "code",
      "execution_count": 1,
      "metadata": {
        "id": "uUPicCxiRlHL"
      },
      "outputs": [],
      "source": [
        "# Импортируем необходимые для работы с данными библиотеки\n",
        "\n",
        "import pandas as pd\n",
        "import numpy as np\n",
        "\n",
        "%matplotlib inline\n",
        "\n",
        "import matplotlib.pyplot as plt\n",
        "import seaborn as sns\n",
        "\n",
        "sns.set(rc={'figure.figsize' : (9, 6)})\n",
        "\n",
        "from datetime import datetime"
      ]
    },
    {
      "cell_type": "code",
      "source": [
        "# Импортируем необходимые для работы с данными библиотеки\n",
        "\n",
        "import sys\n",
        "import timeit"
      ],
      "metadata": {
        "id": "JS-7qZEjdu8B"
      },
      "execution_count": 2,
      "outputs": []
    },
    {
      "cell_type": "code",
      "source": [
        "# Подключаем google drive для работы с файлами \n",
        "\n",
        "from google.colab import drive\n",
        "drive.mount('/content/gdrive')"
      ],
      "metadata": {
        "colab": {
          "base_uri": "https://localhost:8080/"
        },
        "id": "zVjkemmsRw7t",
        "outputId": "30d879f7-dcb3-48f2-a3dd-ee82674cf7f2"
      },
      "execution_count": 3,
      "outputs": [
        {
          "output_type": "stream",
          "name": "stdout",
          "text": [
            "Drive already mounted at /content/gdrive; to attempt to forcibly remount, call drive.mount(\"/content/gdrive\", force_remount=True).\n"
          ]
        }
      ]
    },
    {
      "cell_type": "code",
      "source": [
        "# Считываем файл excel\n",
        "\n",
        "start_time = timeit.default_timer()\n",
        "df_test = pd.read_excel('/content/gdrive/MyDrive/Alabuga/data_xlsx.xlsx')\n",
        "xlsx_reading_time = timeit.default_timer() - start_time\n",
        "print(f'{xlsx_reading_time} sec.')"
      ],
      "metadata": {
        "colab": {
          "base_uri": "https://localhost:8080/"
        },
        "id": "AA8FZZIsWK6m",
        "outputId": "b4922502-0a01-4e54-8127-2e669edcee35"
      },
      "execution_count": 4,
      "outputs": [
        {
          "output_type": "stream",
          "name": "stdout",
          "text": [
            "175.24668849599948 sec.\n"
          ]
        }
      ]
    },
    {
      "cell_type": "code",
      "source": [
        "# Считываем файл csv\n",
        "\n",
        "start_time = timeit.default_timer()\n",
        "df = pd.read_csv('/content/gdrive/MyDrive/Alabuga/data_csv.csv')\n",
        "csv_reading_time = timeit.default_timer() - start_time\n",
        "print(f'{csv_reading_time} sec.')"
      ],
      "metadata": {
        "colab": {
          "base_uri": "https://localhost:8080/"
        },
        "id": "M3bDiSXKTTEz",
        "outputId": "3958ae5b-eb3e-426c-9e86-2753edb781f9"
      },
      "execution_count": 5,
      "outputs": [
        {
          "output_type": "stream",
          "name": "stdout",
          "text": [
            "2.5683803939991776 sec.\n"
          ]
        }
      ]
    },
    {
      "cell_type": "code",
      "source": [
        "# Разница в скорости чтения файлов csv и xlsx\n",
        "\n",
        "xlsx_reading_time - csv_reading_time"
      ],
      "metadata": {
        "colab": {
          "base_uri": "https://localhost:8080/"
        },
        "id": "66b2PiJee1BD",
        "outputId": "98fdd7ab-5e7d-45d7-8e59-5a53b17f1f07"
      },
      "execution_count": 6,
      "outputs": [
        {
          "output_type": "execute_result",
          "data": {
            "text/plain": [
              "172.6783081020003"
            ]
          },
          "metadata": {},
          "execution_count": 6
        }
      ]
    },
    {
      "cell_type": "code",
      "source": [
        "df.head(3) # Данные считанного файла"
      ],
      "metadata": {
        "colab": {
          "base_uri": "https://localhost:8080/",
          "height": 143
        },
        "id": "5RUYJSJ_Wa9n",
        "outputId": "9df037bc-81b9-4821-f85b-9d5c2663c9c0"
      },
      "execution_count": 7,
      "outputs": [
        {
          "output_type": "execute_result",
          "data": {
            "text/plain": [
              "   Unnamed: 0                         player_id country  event  \\\n",
              "0           0  d6313e1fb7d247a6a034e2aadc30ab3f      PK  start   \n",
              "1           1  20ac16ebb30a477087c3c7501b1fce73     NaN    end   \n",
              "2           2  318e22b061b54042b880c365c28982d0     NaN    end   \n",
              "\n",
              "                             session_id                   ts  \n",
              "0  674606b1-2270-4285-928f-eef4a6b90a60  2016-11-22T20:40:50  \n",
              "1  16ca9d01-d240-4527-9f8f-00ef6cddb1d4  2016-11-18T06:24:50  \n",
              "2  5f933591-8cd5-4147-8736-d6237bef5891  2016-11-16T18:01:37  "
            ],
            "text/html": [
              "\n",
              "  <div id=\"df-f3710896-d1fb-454a-ac66-3d55c93283e6\">\n",
              "    <div class=\"colab-df-container\">\n",
              "      <div>\n",
              "<style scoped>\n",
              "    .dataframe tbody tr th:only-of-type {\n",
              "        vertical-align: middle;\n",
              "    }\n",
              "\n",
              "    .dataframe tbody tr th {\n",
              "        vertical-align: top;\n",
              "    }\n",
              "\n",
              "    .dataframe thead th {\n",
              "        text-align: right;\n",
              "    }\n",
              "</style>\n",
              "<table border=\"1\" class=\"dataframe\">\n",
              "  <thead>\n",
              "    <tr style=\"text-align: right;\">\n",
              "      <th></th>\n",
              "      <th>Unnamed: 0</th>\n",
              "      <th>player_id</th>\n",
              "      <th>country</th>\n",
              "      <th>event</th>\n",
              "      <th>session_id</th>\n",
              "      <th>ts</th>\n",
              "    </tr>\n",
              "  </thead>\n",
              "  <tbody>\n",
              "    <tr>\n",
              "      <th>0</th>\n",
              "      <td>0</td>\n",
              "      <td>d6313e1fb7d247a6a034e2aadc30ab3f</td>\n",
              "      <td>PK</td>\n",
              "      <td>start</td>\n",
              "      <td>674606b1-2270-4285-928f-eef4a6b90a60</td>\n",
              "      <td>2016-11-22T20:40:50</td>\n",
              "    </tr>\n",
              "    <tr>\n",
              "      <th>1</th>\n",
              "      <td>1</td>\n",
              "      <td>20ac16ebb30a477087c3c7501b1fce73</td>\n",
              "      <td>NaN</td>\n",
              "      <td>end</td>\n",
              "      <td>16ca9d01-d240-4527-9f8f-00ef6cddb1d4</td>\n",
              "      <td>2016-11-18T06:24:50</td>\n",
              "    </tr>\n",
              "    <tr>\n",
              "      <th>2</th>\n",
              "      <td>2</td>\n",
              "      <td>318e22b061b54042b880c365c28982d0</td>\n",
              "      <td>NaN</td>\n",
              "      <td>end</td>\n",
              "      <td>5f933591-8cd5-4147-8736-d6237bef5891</td>\n",
              "      <td>2016-11-16T18:01:37</td>\n",
              "    </tr>\n",
              "  </tbody>\n",
              "</table>\n",
              "</div>\n",
              "      <button class=\"colab-df-convert\" onclick=\"convertToInteractive('df-f3710896-d1fb-454a-ac66-3d55c93283e6')\"\n",
              "              title=\"Convert this dataframe to an interactive table.\"\n",
              "              style=\"display:none;\">\n",
              "        \n",
              "  <svg xmlns=\"http://www.w3.org/2000/svg\" height=\"24px\"viewBox=\"0 0 24 24\"\n",
              "       width=\"24px\">\n",
              "    <path d=\"M0 0h24v24H0V0z\" fill=\"none\"/>\n",
              "    <path d=\"M18.56 5.44l.94 2.06.94-2.06 2.06-.94-2.06-.94-.94-2.06-.94 2.06-2.06.94zm-11 1L8.5 8.5l.94-2.06 2.06-.94-2.06-.94L8.5 2.5l-.94 2.06-2.06.94zm10 10l.94 2.06.94-2.06 2.06-.94-2.06-.94-.94-2.06-.94 2.06-2.06.94z\"/><path d=\"M17.41 7.96l-1.37-1.37c-.4-.4-.92-.59-1.43-.59-.52 0-1.04.2-1.43.59L10.3 9.45l-7.72 7.72c-.78.78-.78 2.05 0 2.83L4 21.41c.39.39.9.59 1.41.59.51 0 1.02-.2 1.41-.59l7.78-7.78 2.81-2.81c.8-.78.8-2.07 0-2.86zM5.41 20L4 18.59l7.72-7.72 1.47 1.35L5.41 20z\"/>\n",
              "  </svg>\n",
              "      </button>\n",
              "      \n",
              "  <style>\n",
              "    .colab-df-container {\n",
              "      display:flex;\n",
              "      flex-wrap:wrap;\n",
              "      gap: 12px;\n",
              "    }\n",
              "\n",
              "    .colab-df-convert {\n",
              "      background-color: #E8F0FE;\n",
              "      border: none;\n",
              "      border-radius: 50%;\n",
              "      cursor: pointer;\n",
              "      display: none;\n",
              "      fill: #1967D2;\n",
              "      height: 32px;\n",
              "      padding: 0 0 0 0;\n",
              "      width: 32px;\n",
              "    }\n",
              "\n",
              "    .colab-df-convert:hover {\n",
              "      background-color: #E2EBFA;\n",
              "      box-shadow: 0px 1px 2px rgba(60, 64, 67, 0.3), 0px 1px 3px 1px rgba(60, 64, 67, 0.15);\n",
              "      fill: #174EA6;\n",
              "    }\n",
              "\n",
              "    [theme=dark] .colab-df-convert {\n",
              "      background-color: #3B4455;\n",
              "      fill: #D2E3FC;\n",
              "    }\n",
              "\n",
              "    [theme=dark] .colab-df-convert:hover {\n",
              "      background-color: #434B5C;\n",
              "      box-shadow: 0px 1px 3px 1px rgba(0, 0, 0, 0.15);\n",
              "      filter: drop-shadow(0px 1px 2px rgba(0, 0, 0, 0.3));\n",
              "      fill: #FFFFFF;\n",
              "    }\n",
              "  </style>\n",
              "\n",
              "      <script>\n",
              "        const buttonEl =\n",
              "          document.querySelector('#df-f3710896-d1fb-454a-ac66-3d55c93283e6 button.colab-df-convert');\n",
              "        buttonEl.style.display =\n",
              "          google.colab.kernel.accessAllowed ? 'block' : 'none';\n",
              "\n",
              "        async function convertToInteractive(key) {\n",
              "          const element = document.querySelector('#df-f3710896-d1fb-454a-ac66-3d55c93283e6');\n",
              "          const dataTable =\n",
              "            await google.colab.kernel.invokeFunction('convertToInteractive',\n",
              "                                                     [key], {});\n",
              "          if (!dataTable) return;\n",
              "\n",
              "          const docLinkHtml = 'Like what you see? Visit the ' +\n",
              "            '<a target=\"_blank\" href=https://colab.research.google.com/notebooks/data_table.ipynb>data table notebook</a>'\n",
              "            + ' to learn more about interactive tables.';\n",
              "          element.innerHTML = '';\n",
              "          dataTable['output_type'] = 'display_data';\n",
              "          await google.colab.output.renderOutput(dataTable, element);\n",
              "          const docLink = document.createElement('div');\n",
              "          docLink.innerHTML = docLinkHtml;\n",
              "          element.appendChild(docLink);\n",
              "        }\n",
              "      </script>\n",
              "    </div>\n",
              "  </div>\n",
              "  "
            ]
          },
          "metadata": {},
          "execution_count": 7
        }
      ]
    },
    {
      "cell_type": "code",
      "source": [
        "df.info() # Данные считанного файла"
      ],
      "metadata": {
        "colab": {
          "base_uri": "https://localhost:8080/"
        },
        "id": "jK10aPo2WdC7",
        "outputId": "4ca4e3ba-9cea-42e7-d630-d0b3420e4456"
      },
      "execution_count": 8,
      "outputs": [
        {
          "output_type": "stream",
          "name": "stdout",
          "text": [
            "<class 'pandas.core.frame.DataFrame'>\n",
            "RangeIndex: 1001169 entries, 0 to 1001168\n",
            "Data columns (total 6 columns):\n",
            " #   Column      Non-Null Count    Dtype \n",
            "---  ------      --------------    ----- \n",
            " 0   Unnamed: 0  1001169 non-null  int64 \n",
            " 1   player_id   1001169 non-null  object\n",
            " 2   country     498214 non-null   object\n",
            " 3   event       1001169 non-null  object\n",
            " 4   session_id  1001169 non-null  object\n",
            " 5   ts          1001169 non-null  object\n",
            "dtypes: int64(1), object(5)\n",
            "memory usage: 45.8+ MB\n"
          ]
        }
      ]
    },
    {
      "cell_type": "code",
      "source": [
        "df.describe() # Данные считанного файла"
      ],
      "metadata": {
        "colab": {
          "base_uri": "https://localhost:8080/",
          "height": 300
        },
        "id": "IdQ9H_13WdWy",
        "outputId": "89fff44b-50ad-4a6c-cff5-1ca5c38801c3"
      },
      "execution_count": 9,
      "outputs": [
        {
          "output_type": "execute_result",
          "data": {
            "text/plain": [
              "         Unnamed: 0\n",
              "count  1.001169e+06\n",
              "mean   5.005840e+05\n",
              "std    2.890127e+05\n",
              "min    0.000000e+00\n",
              "25%    2.502920e+05\n",
              "50%    5.005840e+05\n",
              "75%    7.508760e+05\n",
              "max    1.001168e+06"
            ],
            "text/html": [
              "\n",
              "  <div id=\"df-65d45927-ccd8-4e72-b07e-171ddd02962e\">\n",
              "    <div class=\"colab-df-container\">\n",
              "      <div>\n",
              "<style scoped>\n",
              "    .dataframe tbody tr th:only-of-type {\n",
              "        vertical-align: middle;\n",
              "    }\n",
              "\n",
              "    .dataframe tbody tr th {\n",
              "        vertical-align: top;\n",
              "    }\n",
              "\n",
              "    .dataframe thead th {\n",
              "        text-align: right;\n",
              "    }\n",
              "</style>\n",
              "<table border=\"1\" class=\"dataframe\">\n",
              "  <thead>\n",
              "    <tr style=\"text-align: right;\">\n",
              "      <th></th>\n",
              "      <th>Unnamed: 0</th>\n",
              "    </tr>\n",
              "  </thead>\n",
              "  <tbody>\n",
              "    <tr>\n",
              "      <th>count</th>\n",
              "      <td>1.001169e+06</td>\n",
              "    </tr>\n",
              "    <tr>\n",
              "      <th>mean</th>\n",
              "      <td>5.005840e+05</td>\n",
              "    </tr>\n",
              "    <tr>\n",
              "      <th>std</th>\n",
              "      <td>2.890127e+05</td>\n",
              "    </tr>\n",
              "    <tr>\n",
              "      <th>min</th>\n",
              "      <td>0.000000e+00</td>\n",
              "    </tr>\n",
              "    <tr>\n",
              "      <th>25%</th>\n",
              "      <td>2.502920e+05</td>\n",
              "    </tr>\n",
              "    <tr>\n",
              "      <th>50%</th>\n",
              "      <td>5.005840e+05</td>\n",
              "    </tr>\n",
              "    <tr>\n",
              "      <th>75%</th>\n",
              "      <td>7.508760e+05</td>\n",
              "    </tr>\n",
              "    <tr>\n",
              "      <th>max</th>\n",
              "      <td>1.001168e+06</td>\n",
              "    </tr>\n",
              "  </tbody>\n",
              "</table>\n",
              "</div>\n",
              "      <button class=\"colab-df-convert\" onclick=\"convertToInteractive('df-65d45927-ccd8-4e72-b07e-171ddd02962e')\"\n",
              "              title=\"Convert this dataframe to an interactive table.\"\n",
              "              style=\"display:none;\">\n",
              "        \n",
              "  <svg xmlns=\"http://www.w3.org/2000/svg\" height=\"24px\"viewBox=\"0 0 24 24\"\n",
              "       width=\"24px\">\n",
              "    <path d=\"M0 0h24v24H0V0z\" fill=\"none\"/>\n",
              "    <path d=\"M18.56 5.44l.94 2.06.94-2.06 2.06-.94-2.06-.94-.94-2.06-.94 2.06-2.06.94zm-11 1L8.5 8.5l.94-2.06 2.06-.94-2.06-.94L8.5 2.5l-.94 2.06-2.06.94zm10 10l.94 2.06.94-2.06 2.06-.94-2.06-.94-.94-2.06-.94 2.06-2.06.94z\"/><path d=\"M17.41 7.96l-1.37-1.37c-.4-.4-.92-.59-1.43-.59-.52 0-1.04.2-1.43.59L10.3 9.45l-7.72 7.72c-.78.78-.78 2.05 0 2.83L4 21.41c.39.39.9.59 1.41.59.51 0 1.02-.2 1.41-.59l7.78-7.78 2.81-2.81c.8-.78.8-2.07 0-2.86zM5.41 20L4 18.59l7.72-7.72 1.47 1.35L5.41 20z\"/>\n",
              "  </svg>\n",
              "      </button>\n",
              "      \n",
              "  <style>\n",
              "    .colab-df-container {\n",
              "      display:flex;\n",
              "      flex-wrap:wrap;\n",
              "      gap: 12px;\n",
              "    }\n",
              "\n",
              "    .colab-df-convert {\n",
              "      background-color: #E8F0FE;\n",
              "      border: none;\n",
              "      border-radius: 50%;\n",
              "      cursor: pointer;\n",
              "      display: none;\n",
              "      fill: #1967D2;\n",
              "      height: 32px;\n",
              "      padding: 0 0 0 0;\n",
              "      width: 32px;\n",
              "    }\n",
              "\n",
              "    .colab-df-convert:hover {\n",
              "      background-color: #E2EBFA;\n",
              "      box-shadow: 0px 1px 2px rgba(60, 64, 67, 0.3), 0px 1px 3px 1px rgba(60, 64, 67, 0.15);\n",
              "      fill: #174EA6;\n",
              "    }\n",
              "\n",
              "    [theme=dark] .colab-df-convert {\n",
              "      background-color: #3B4455;\n",
              "      fill: #D2E3FC;\n",
              "    }\n",
              "\n",
              "    [theme=dark] .colab-df-convert:hover {\n",
              "      background-color: #434B5C;\n",
              "      box-shadow: 0px 1px 3px 1px rgba(0, 0, 0, 0.15);\n",
              "      filter: drop-shadow(0px 1px 2px rgba(0, 0, 0, 0.3));\n",
              "      fill: #FFFFFF;\n",
              "    }\n",
              "  </style>\n",
              "\n",
              "      <script>\n",
              "        const buttonEl =\n",
              "          document.querySelector('#df-65d45927-ccd8-4e72-b07e-171ddd02962e button.colab-df-convert');\n",
              "        buttonEl.style.display =\n",
              "          google.colab.kernel.accessAllowed ? 'block' : 'none';\n",
              "\n",
              "        async function convertToInteractive(key) {\n",
              "          const element = document.querySelector('#df-65d45927-ccd8-4e72-b07e-171ddd02962e');\n",
              "          const dataTable =\n",
              "            await google.colab.kernel.invokeFunction('convertToInteractive',\n",
              "                                                     [key], {});\n",
              "          if (!dataTable) return;\n",
              "\n",
              "          const docLinkHtml = 'Like what you see? Visit the ' +\n",
              "            '<a target=\"_blank\" href=https://colab.research.google.com/notebooks/data_table.ipynb>data table notebook</a>'\n",
              "            + ' to learn more about interactive tables.';\n",
              "          element.innerHTML = '';\n",
              "          dataTable['output_type'] = 'display_data';\n",
              "          await google.colab.output.renderOutput(dataTable, element);\n",
              "          const docLink = document.createElement('div');\n",
              "          docLink.innerHTML = docLinkHtml;\n",
              "          element.appendChild(docLink);\n",
              "        }\n",
              "      </script>\n",
              "    </div>\n",
              "  </div>\n",
              "  "
            ]
          },
          "metadata": {},
          "execution_count": 9
        }
      ]
    },
    {
      "cell_type": "code",
      "source": [
        "df_sort = df.sort_values(by='ts', ignore_index = True) # сортируем данные по времени исследовния"
      ],
      "metadata": {
        "id": "xf0HsYszVrg5"
      },
      "execution_count": 10,
      "outputs": []
    },
    {
      "cell_type": "code",
      "source": [
        "df_sort.head(3)"
      ],
      "metadata": {
        "colab": {
          "base_uri": "https://localhost:8080/",
          "height": 143
        },
        "id": "cjHLDku5858p",
        "outputId": "6567548c-5410-4bb3-bc56-9df2a24b7b8f"
      },
      "execution_count": 11,
      "outputs": [
        {
          "output_type": "execute_result",
          "data": {
            "text/plain": [
              "   Unnamed: 0                         player_id country  event  \\\n",
              "0      472016  03c648a9437d401b8e326cd1f93bd06e     NaN    end   \n",
              "1      596529  f31432131e56427d8b75338a2b4f8048      IQ  start   \n",
              "2      603549  aba0274a926a4ccdb94876c8e4dcb0c6      MF  start   \n",
              "\n",
              "                             session_id                   ts  \n",
              "0  cd0f2f42-3ab2-4506-bbf7-00f58909b9ef  2016-10-20T23:40:38  \n",
              "1  d2063b29-2a82-49b3-9642-93d52f3198df  2016-11-02T14:35:53  \n",
              "2  7ff15b72-a2a3-4abb-8c3e-354034168d07  2016-11-02T14:35:59  "
            ],
            "text/html": [
              "\n",
              "  <div id=\"df-4735a484-98a6-4854-952e-5064c201d1ec\">\n",
              "    <div class=\"colab-df-container\">\n",
              "      <div>\n",
              "<style scoped>\n",
              "    .dataframe tbody tr th:only-of-type {\n",
              "        vertical-align: middle;\n",
              "    }\n",
              "\n",
              "    .dataframe tbody tr th {\n",
              "        vertical-align: top;\n",
              "    }\n",
              "\n",
              "    .dataframe thead th {\n",
              "        text-align: right;\n",
              "    }\n",
              "</style>\n",
              "<table border=\"1\" class=\"dataframe\">\n",
              "  <thead>\n",
              "    <tr style=\"text-align: right;\">\n",
              "      <th></th>\n",
              "      <th>Unnamed: 0</th>\n",
              "      <th>player_id</th>\n",
              "      <th>country</th>\n",
              "      <th>event</th>\n",
              "      <th>session_id</th>\n",
              "      <th>ts</th>\n",
              "    </tr>\n",
              "  </thead>\n",
              "  <tbody>\n",
              "    <tr>\n",
              "      <th>0</th>\n",
              "      <td>472016</td>\n",
              "      <td>03c648a9437d401b8e326cd1f93bd06e</td>\n",
              "      <td>NaN</td>\n",
              "      <td>end</td>\n",
              "      <td>cd0f2f42-3ab2-4506-bbf7-00f58909b9ef</td>\n",
              "      <td>2016-10-20T23:40:38</td>\n",
              "    </tr>\n",
              "    <tr>\n",
              "      <th>1</th>\n",
              "      <td>596529</td>\n",
              "      <td>f31432131e56427d8b75338a2b4f8048</td>\n",
              "      <td>IQ</td>\n",
              "      <td>start</td>\n",
              "      <td>d2063b29-2a82-49b3-9642-93d52f3198df</td>\n",
              "      <td>2016-11-02T14:35:53</td>\n",
              "    </tr>\n",
              "    <tr>\n",
              "      <th>2</th>\n",
              "      <td>603549</td>\n",
              "      <td>aba0274a926a4ccdb94876c8e4dcb0c6</td>\n",
              "      <td>MF</td>\n",
              "      <td>start</td>\n",
              "      <td>7ff15b72-a2a3-4abb-8c3e-354034168d07</td>\n",
              "      <td>2016-11-02T14:35:59</td>\n",
              "    </tr>\n",
              "  </tbody>\n",
              "</table>\n",
              "</div>\n",
              "      <button class=\"colab-df-convert\" onclick=\"convertToInteractive('df-4735a484-98a6-4854-952e-5064c201d1ec')\"\n",
              "              title=\"Convert this dataframe to an interactive table.\"\n",
              "              style=\"display:none;\">\n",
              "        \n",
              "  <svg xmlns=\"http://www.w3.org/2000/svg\" height=\"24px\"viewBox=\"0 0 24 24\"\n",
              "       width=\"24px\">\n",
              "    <path d=\"M0 0h24v24H0V0z\" fill=\"none\"/>\n",
              "    <path d=\"M18.56 5.44l.94 2.06.94-2.06 2.06-.94-2.06-.94-.94-2.06-.94 2.06-2.06.94zm-11 1L8.5 8.5l.94-2.06 2.06-.94-2.06-.94L8.5 2.5l-.94 2.06-2.06.94zm10 10l.94 2.06.94-2.06 2.06-.94-2.06-.94-.94-2.06-.94 2.06-2.06.94z\"/><path d=\"M17.41 7.96l-1.37-1.37c-.4-.4-.92-.59-1.43-.59-.52 0-1.04.2-1.43.59L10.3 9.45l-7.72 7.72c-.78.78-.78 2.05 0 2.83L4 21.41c.39.39.9.59 1.41.59.51 0 1.02-.2 1.41-.59l7.78-7.78 2.81-2.81c.8-.78.8-2.07 0-2.86zM5.41 20L4 18.59l7.72-7.72 1.47 1.35L5.41 20z\"/>\n",
              "  </svg>\n",
              "      </button>\n",
              "      \n",
              "  <style>\n",
              "    .colab-df-container {\n",
              "      display:flex;\n",
              "      flex-wrap:wrap;\n",
              "      gap: 12px;\n",
              "    }\n",
              "\n",
              "    .colab-df-convert {\n",
              "      background-color: #E8F0FE;\n",
              "      border: none;\n",
              "      border-radius: 50%;\n",
              "      cursor: pointer;\n",
              "      display: none;\n",
              "      fill: #1967D2;\n",
              "      height: 32px;\n",
              "      padding: 0 0 0 0;\n",
              "      width: 32px;\n",
              "    }\n",
              "\n",
              "    .colab-df-convert:hover {\n",
              "      background-color: #E2EBFA;\n",
              "      box-shadow: 0px 1px 2px rgba(60, 64, 67, 0.3), 0px 1px 3px 1px rgba(60, 64, 67, 0.15);\n",
              "      fill: #174EA6;\n",
              "    }\n",
              "\n",
              "    [theme=dark] .colab-df-convert {\n",
              "      background-color: #3B4455;\n",
              "      fill: #D2E3FC;\n",
              "    }\n",
              "\n",
              "    [theme=dark] .colab-df-convert:hover {\n",
              "      background-color: #434B5C;\n",
              "      box-shadow: 0px 1px 3px 1px rgba(0, 0, 0, 0.15);\n",
              "      filter: drop-shadow(0px 1px 2px rgba(0, 0, 0, 0.3));\n",
              "      fill: #FFFFFF;\n",
              "    }\n",
              "  </style>\n",
              "\n",
              "      <script>\n",
              "        const buttonEl =\n",
              "          document.querySelector('#df-4735a484-98a6-4854-952e-5064c201d1ec button.colab-df-convert');\n",
              "        buttonEl.style.display =\n",
              "          google.colab.kernel.accessAllowed ? 'block' : 'none';\n",
              "\n",
              "        async function convertToInteractive(key) {\n",
              "          const element = document.querySelector('#df-4735a484-98a6-4854-952e-5064c201d1ec');\n",
              "          const dataTable =\n",
              "            await google.colab.kernel.invokeFunction('convertToInteractive',\n",
              "                                                     [key], {});\n",
              "          if (!dataTable) return;\n",
              "\n",
              "          const docLinkHtml = 'Like what you see? Visit the ' +\n",
              "            '<a target=\"_blank\" href=https://colab.research.google.com/notebooks/data_table.ipynb>data table notebook</a>'\n",
              "            + ' to learn more about interactive tables.';\n",
              "          element.innerHTML = '';\n",
              "          dataTable['output_type'] = 'display_data';\n",
              "          await google.colab.output.renderOutput(dataTable, element);\n",
              "          const docLink = document.createElement('div');\n",
              "          docLink.innerHTML = docLinkHtml;\n",
              "          element.appendChild(docLink);\n",
              "        }\n",
              "      </script>\n",
              "    </div>\n",
              "  </div>\n",
              "  "
            ]
          },
          "metadata": {},
          "execution_count": 11
        }
      ]
    },
    {
      "cell_type": "code",
      "source": [
        "# Делим данные на 2 фрейма по типу события(start и end) \n",
        "\n",
        "# Датафрейм c событиями типа 'start'\n",
        "df_res = df_sort[df_sort['event'] == 'start'].copy()\n",
        "df_res.rename(columns = {'ts' : 'session_start_time'}, inplace = True)\n",
        "\n",
        "# Датафрейм c событиями типа 'end'\n",
        "tmp = df_sort[df_sort['event'] == 'end'].copy()\n",
        "tmp.rename(columns = {'ts' : 'session_end_time'}, inplace = True)\n",
        "\n",
        "# Удаляем ненужные фичи из датафрейма c событиями типа 'end'\n",
        "tmp.drop(columns=['country'], inplace=True)"
      ],
      "metadata": {
        "id": "RajTPbKNMNhN"
      },
      "execution_count": 12,
      "outputs": []
    },
    {
      "cell_type": "code",
      "source": [
        "df_res.head(3)"
      ],
      "metadata": {
        "colab": {
          "base_uri": "https://localhost:8080/",
          "height": 143
        },
        "id": "77fcWScHN6er",
        "outputId": "eff5a0c5-a612-4e36-a797-e8054d711ae2"
      },
      "execution_count": 13,
      "outputs": [
        {
          "output_type": "execute_result",
          "data": {
            "text/plain": [
              "   Unnamed: 0                         player_id country  event  \\\n",
              "1      596529  f31432131e56427d8b75338a2b4f8048      IQ  start   \n",
              "2      603549  aba0274a926a4ccdb94876c8e4dcb0c6      MF  start   \n",
              "3      710240  adc13c0804874368bd8660cdad928042      SX  start   \n",
              "\n",
              "                             session_id   session_start_time  \n",
              "1  d2063b29-2a82-49b3-9642-93d52f3198df  2016-11-02T14:35:53  \n",
              "2  7ff15b72-a2a3-4abb-8c3e-354034168d07  2016-11-02T14:35:59  \n",
              "3  a5d5f69d-cf2c-4963-af15-a06ada66bcd9  2016-11-02T14:36:01  "
            ],
            "text/html": [
              "\n",
              "  <div id=\"df-9c2f8d2a-f621-4af0-8512-2eff2e6a52f3\">\n",
              "    <div class=\"colab-df-container\">\n",
              "      <div>\n",
              "<style scoped>\n",
              "    .dataframe tbody tr th:only-of-type {\n",
              "        vertical-align: middle;\n",
              "    }\n",
              "\n",
              "    .dataframe tbody tr th {\n",
              "        vertical-align: top;\n",
              "    }\n",
              "\n",
              "    .dataframe thead th {\n",
              "        text-align: right;\n",
              "    }\n",
              "</style>\n",
              "<table border=\"1\" class=\"dataframe\">\n",
              "  <thead>\n",
              "    <tr style=\"text-align: right;\">\n",
              "      <th></th>\n",
              "      <th>Unnamed: 0</th>\n",
              "      <th>player_id</th>\n",
              "      <th>country</th>\n",
              "      <th>event</th>\n",
              "      <th>session_id</th>\n",
              "      <th>session_start_time</th>\n",
              "    </tr>\n",
              "  </thead>\n",
              "  <tbody>\n",
              "    <tr>\n",
              "      <th>1</th>\n",
              "      <td>596529</td>\n",
              "      <td>f31432131e56427d8b75338a2b4f8048</td>\n",
              "      <td>IQ</td>\n",
              "      <td>start</td>\n",
              "      <td>d2063b29-2a82-49b3-9642-93d52f3198df</td>\n",
              "      <td>2016-11-02T14:35:53</td>\n",
              "    </tr>\n",
              "    <tr>\n",
              "      <th>2</th>\n",
              "      <td>603549</td>\n",
              "      <td>aba0274a926a4ccdb94876c8e4dcb0c6</td>\n",
              "      <td>MF</td>\n",
              "      <td>start</td>\n",
              "      <td>7ff15b72-a2a3-4abb-8c3e-354034168d07</td>\n",
              "      <td>2016-11-02T14:35:59</td>\n",
              "    </tr>\n",
              "    <tr>\n",
              "      <th>3</th>\n",
              "      <td>710240</td>\n",
              "      <td>adc13c0804874368bd8660cdad928042</td>\n",
              "      <td>SX</td>\n",
              "      <td>start</td>\n",
              "      <td>a5d5f69d-cf2c-4963-af15-a06ada66bcd9</td>\n",
              "      <td>2016-11-02T14:36:01</td>\n",
              "    </tr>\n",
              "  </tbody>\n",
              "</table>\n",
              "</div>\n",
              "      <button class=\"colab-df-convert\" onclick=\"convertToInteractive('df-9c2f8d2a-f621-4af0-8512-2eff2e6a52f3')\"\n",
              "              title=\"Convert this dataframe to an interactive table.\"\n",
              "              style=\"display:none;\">\n",
              "        \n",
              "  <svg xmlns=\"http://www.w3.org/2000/svg\" height=\"24px\"viewBox=\"0 0 24 24\"\n",
              "       width=\"24px\">\n",
              "    <path d=\"M0 0h24v24H0V0z\" fill=\"none\"/>\n",
              "    <path d=\"M18.56 5.44l.94 2.06.94-2.06 2.06-.94-2.06-.94-.94-2.06-.94 2.06-2.06.94zm-11 1L8.5 8.5l.94-2.06 2.06-.94-2.06-.94L8.5 2.5l-.94 2.06-2.06.94zm10 10l.94 2.06.94-2.06 2.06-.94-2.06-.94-.94-2.06-.94 2.06-2.06.94z\"/><path d=\"M17.41 7.96l-1.37-1.37c-.4-.4-.92-.59-1.43-.59-.52 0-1.04.2-1.43.59L10.3 9.45l-7.72 7.72c-.78.78-.78 2.05 0 2.83L4 21.41c.39.39.9.59 1.41.59.51 0 1.02-.2 1.41-.59l7.78-7.78 2.81-2.81c.8-.78.8-2.07 0-2.86zM5.41 20L4 18.59l7.72-7.72 1.47 1.35L5.41 20z\"/>\n",
              "  </svg>\n",
              "      </button>\n",
              "      \n",
              "  <style>\n",
              "    .colab-df-container {\n",
              "      display:flex;\n",
              "      flex-wrap:wrap;\n",
              "      gap: 12px;\n",
              "    }\n",
              "\n",
              "    .colab-df-convert {\n",
              "      background-color: #E8F0FE;\n",
              "      border: none;\n",
              "      border-radius: 50%;\n",
              "      cursor: pointer;\n",
              "      display: none;\n",
              "      fill: #1967D2;\n",
              "      height: 32px;\n",
              "      padding: 0 0 0 0;\n",
              "      width: 32px;\n",
              "    }\n",
              "\n",
              "    .colab-df-convert:hover {\n",
              "      background-color: #E2EBFA;\n",
              "      box-shadow: 0px 1px 2px rgba(60, 64, 67, 0.3), 0px 1px 3px 1px rgba(60, 64, 67, 0.15);\n",
              "      fill: #174EA6;\n",
              "    }\n",
              "\n",
              "    [theme=dark] .colab-df-convert {\n",
              "      background-color: #3B4455;\n",
              "      fill: #D2E3FC;\n",
              "    }\n",
              "\n",
              "    [theme=dark] .colab-df-convert:hover {\n",
              "      background-color: #434B5C;\n",
              "      box-shadow: 0px 1px 3px 1px rgba(0, 0, 0, 0.15);\n",
              "      filter: drop-shadow(0px 1px 2px rgba(0, 0, 0, 0.3));\n",
              "      fill: #FFFFFF;\n",
              "    }\n",
              "  </style>\n",
              "\n",
              "      <script>\n",
              "        const buttonEl =\n",
              "          document.querySelector('#df-9c2f8d2a-f621-4af0-8512-2eff2e6a52f3 button.colab-df-convert');\n",
              "        buttonEl.style.display =\n",
              "          google.colab.kernel.accessAllowed ? 'block' : 'none';\n",
              "\n",
              "        async function convertToInteractive(key) {\n",
              "          const element = document.querySelector('#df-9c2f8d2a-f621-4af0-8512-2eff2e6a52f3');\n",
              "          const dataTable =\n",
              "            await google.colab.kernel.invokeFunction('convertToInteractive',\n",
              "                                                     [key], {});\n",
              "          if (!dataTable) return;\n",
              "\n",
              "          const docLinkHtml = 'Like what you see? Visit the ' +\n",
              "            '<a target=\"_blank\" href=https://colab.research.google.com/notebooks/data_table.ipynb>data table notebook</a>'\n",
              "            + ' to learn more about interactive tables.';\n",
              "          element.innerHTML = '';\n",
              "          dataTable['output_type'] = 'display_data';\n",
              "          await google.colab.output.renderOutput(dataTable, element);\n",
              "          const docLink = document.createElement('div');\n",
              "          docLink.innerHTML = docLinkHtml;\n",
              "          element.appendChild(docLink);\n",
              "        }\n",
              "      </script>\n",
              "    </div>\n",
              "  </div>\n",
              "  "
            ]
          },
          "metadata": {},
          "execution_count": 13
        }
      ]
    },
    {
      "cell_type": "code",
      "source": [
        "tmp.head(3)"
      ],
      "metadata": {
        "colab": {
          "base_uri": "https://localhost:8080/",
          "height": 143
        },
        "id": "_wUWJZMaN4Gv",
        "outputId": "cc69929f-2a61-49b1-cbad-632343a8cd1f"
      },
      "execution_count": 14,
      "outputs": [
        {
          "output_type": "execute_result",
          "data": {
            "text/plain": [
              "    Unnamed: 0                         player_id event  \\\n",
              "0       472016  03c648a9437d401b8e326cd1f93bd06e   end   \n",
              "59      319282  6c1f82e0816e46e1806e7ee327ac0fd2   end   \n",
              "77      669614  65f80218ab4f4a0c9aca643d90f7713b   end   \n",
              "\n",
              "                              session_id     session_end_time  \n",
              "0   cd0f2f42-3ab2-4506-bbf7-00f58909b9ef  2016-10-20T23:40:38  \n",
              "59  fdc59077-ac71-4bdf-a2a2-a43dad3d4336  2016-11-02T14:40:57  \n",
              "77  4b0f35c9-3ff2-488b-bbc2-cd6c00c4b0f7  2016-11-02T14:42:14  "
            ],
            "text/html": [
              "\n",
              "  <div id=\"df-d7b3b13a-bc65-4fb2-9eb9-b8294ea19e5d\">\n",
              "    <div class=\"colab-df-container\">\n",
              "      <div>\n",
              "<style scoped>\n",
              "    .dataframe tbody tr th:only-of-type {\n",
              "        vertical-align: middle;\n",
              "    }\n",
              "\n",
              "    .dataframe tbody tr th {\n",
              "        vertical-align: top;\n",
              "    }\n",
              "\n",
              "    .dataframe thead th {\n",
              "        text-align: right;\n",
              "    }\n",
              "</style>\n",
              "<table border=\"1\" class=\"dataframe\">\n",
              "  <thead>\n",
              "    <tr style=\"text-align: right;\">\n",
              "      <th></th>\n",
              "      <th>Unnamed: 0</th>\n",
              "      <th>player_id</th>\n",
              "      <th>event</th>\n",
              "      <th>session_id</th>\n",
              "      <th>session_end_time</th>\n",
              "    </tr>\n",
              "  </thead>\n",
              "  <tbody>\n",
              "    <tr>\n",
              "      <th>0</th>\n",
              "      <td>472016</td>\n",
              "      <td>03c648a9437d401b8e326cd1f93bd06e</td>\n",
              "      <td>end</td>\n",
              "      <td>cd0f2f42-3ab2-4506-bbf7-00f58909b9ef</td>\n",
              "      <td>2016-10-20T23:40:38</td>\n",
              "    </tr>\n",
              "    <tr>\n",
              "      <th>59</th>\n",
              "      <td>319282</td>\n",
              "      <td>6c1f82e0816e46e1806e7ee327ac0fd2</td>\n",
              "      <td>end</td>\n",
              "      <td>fdc59077-ac71-4bdf-a2a2-a43dad3d4336</td>\n",
              "      <td>2016-11-02T14:40:57</td>\n",
              "    </tr>\n",
              "    <tr>\n",
              "      <th>77</th>\n",
              "      <td>669614</td>\n",
              "      <td>65f80218ab4f4a0c9aca643d90f7713b</td>\n",
              "      <td>end</td>\n",
              "      <td>4b0f35c9-3ff2-488b-bbc2-cd6c00c4b0f7</td>\n",
              "      <td>2016-11-02T14:42:14</td>\n",
              "    </tr>\n",
              "  </tbody>\n",
              "</table>\n",
              "</div>\n",
              "      <button class=\"colab-df-convert\" onclick=\"convertToInteractive('df-d7b3b13a-bc65-4fb2-9eb9-b8294ea19e5d')\"\n",
              "              title=\"Convert this dataframe to an interactive table.\"\n",
              "              style=\"display:none;\">\n",
              "        \n",
              "  <svg xmlns=\"http://www.w3.org/2000/svg\" height=\"24px\"viewBox=\"0 0 24 24\"\n",
              "       width=\"24px\">\n",
              "    <path d=\"M0 0h24v24H0V0z\" fill=\"none\"/>\n",
              "    <path d=\"M18.56 5.44l.94 2.06.94-2.06 2.06-.94-2.06-.94-.94-2.06-.94 2.06-2.06.94zm-11 1L8.5 8.5l.94-2.06 2.06-.94-2.06-.94L8.5 2.5l-.94 2.06-2.06.94zm10 10l.94 2.06.94-2.06 2.06-.94-2.06-.94-.94-2.06-.94 2.06-2.06.94z\"/><path d=\"M17.41 7.96l-1.37-1.37c-.4-.4-.92-.59-1.43-.59-.52 0-1.04.2-1.43.59L10.3 9.45l-7.72 7.72c-.78.78-.78 2.05 0 2.83L4 21.41c.39.39.9.59 1.41.59.51 0 1.02-.2 1.41-.59l7.78-7.78 2.81-2.81c.8-.78.8-2.07 0-2.86zM5.41 20L4 18.59l7.72-7.72 1.47 1.35L5.41 20z\"/>\n",
              "  </svg>\n",
              "      </button>\n",
              "      \n",
              "  <style>\n",
              "    .colab-df-container {\n",
              "      display:flex;\n",
              "      flex-wrap:wrap;\n",
              "      gap: 12px;\n",
              "    }\n",
              "\n",
              "    .colab-df-convert {\n",
              "      background-color: #E8F0FE;\n",
              "      border: none;\n",
              "      border-radius: 50%;\n",
              "      cursor: pointer;\n",
              "      display: none;\n",
              "      fill: #1967D2;\n",
              "      height: 32px;\n",
              "      padding: 0 0 0 0;\n",
              "      width: 32px;\n",
              "    }\n",
              "\n",
              "    .colab-df-convert:hover {\n",
              "      background-color: #E2EBFA;\n",
              "      box-shadow: 0px 1px 2px rgba(60, 64, 67, 0.3), 0px 1px 3px 1px rgba(60, 64, 67, 0.15);\n",
              "      fill: #174EA6;\n",
              "    }\n",
              "\n",
              "    [theme=dark] .colab-df-convert {\n",
              "      background-color: #3B4455;\n",
              "      fill: #D2E3FC;\n",
              "    }\n",
              "\n",
              "    [theme=dark] .colab-df-convert:hover {\n",
              "      background-color: #434B5C;\n",
              "      box-shadow: 0px 1px 3px 1px rgba(0, 0, 0, 0.15);\n",
              "      filter: drop-shadow(0px 1px 2px rgba(0, 0, 0, 0.3));\n",
              "      fill: #FFFFFF;\n",
              "    }\n",
              "  </style>\n",
              "\n",
              "      <script>\n",
              "        const buttonEl =\n",
              "          document.querySelector('#df-d7b3b13a-bc65-4fb2-9eb9-b8294ea19e5d button.colab-df-convert');\n",
              "        buttonEl.style.display =\n",
              "          google.colab.kernel.accessAllowed ? 'block' : 'none';\n",
              "\n",
              "        async function convertToInteractive(key) {\n",
              "          const element = document.querySelector('#df-d7b3b13a-bc65-4fb2-9eb9-b8294ea19e5d');\n",
              "          const dataTable =\n",
              "            await google.colab.kernel.invokeFunction('convertToInteractive',\n",
              "                                                     [key], {});\n",
              "          if (!dataTable) return;\n",
              "\n",
              "          const docLinkHtml = 'Like what you see? Visit the ' +\n",
              "            '<a target=\"_blank\" href=https://colab.research.google.com/notebooks/data_table.ipynb>data table notebook</a>'\n",
              "            + ' to learn more about interactive tables.';\n",
              "          element.innerHTML = '';\n",
              "          dataTable['output_type'] = 'display_data';\n",
              "          await google.colab.output.renderOutput(dataTable, element);\n",
              "          const docLink = document.createElement('div');\n",
              "          docLink.innerHTML = docLinkHtml;\n",
              "          element.appendChild(docLink);\n",
              "        }\n",
              "      </script>\n",
              "    </div>\n",
              "  </div>\n",
              "  "
            ]
          },
          "metadata": {},
          "execution_count": 14
        }
      ]
    },
    {
      "cell_type": "code",
      "source": [
        "# В данном блоке мы соединяем 2 фрейма используя 'session_id' как уникальный ключ\n",
        "\n",
        "df_res = df_res.merge(tmp, on='session_id', how='outer')\n",
        "\n",
        "df_res['player_id_x'] = df_res['player_id_y'].combine_first(df_res['player_id_x'])\n",
        "\n",
        "df_res.drop('player_id_y', axis=1, inplace=True)\n",
        "\n",
        "df_res.rename(columns = {'ts' : 'session_end_time', \\\n",
        "                         'player_id_x' : 'player_id'}, inplace = True)\n",
        "\n",
        "df_res.rename(columns = {'event_x' : 'event_start', \\\n",
        "                         'event_y' : 'event_end'}, inplace = True)\n",
        "\n",
        "df_res = df_res.reindex(columns=['player_id', 'country', 'session_id', \\\n",
        "                                 'event_start', 'session_start_time', \\\n",
        "                                 'event_end', 'session_end_time'])\n",
        "\n",
        "df_res['session_start_time'] = pd.to_datetime(df_res['session_start_time'])\n",
        "df_res['session_end_time'] = pd.to_datetime(df_res['session_end_time'])\n",
        "\n",
        "df_res['event_start'] = df_res['event_start'] == 'start'\n",
        "df_res['event_end'] = df_res['event_end'] == 'end'\n",
        "\n",
        "df_res.head(3)"
      ],
      "metadata": {
        "colab": {
          "base_uri": "https://localhost:8080/",
          "height": 239
        },
        "id": "Ip8iiEFs50Jw",
        "outputId": "2294c3ef-1ac5-4479-bcd3-0f417c0c2c5e"
      },
      "execution_count": 15,
      "outputs": [
        {
          "output_type": "execute_result",
          "data": {
            "text/plain": [
              "                          player_id country  \\\n",
              "0  f31432131e56427d8b75338a2b4f8048      IQ   \n",
              "1  aba0274a926a4ccdb94876c8e4dcb0c6      MF   \n",
              "2  adc13c0804874368bd8660cdad928042      SX   \n",
              "\n",
              "                             session_id  event_start  session_start_time  \\\n",
              "0  d2063b29-2a82-49b3-9642-93d52f3198df         True 2016-11-02 14:35:53   \n",
              "1  7ff15b72-a2a3-4abb-8c3e-354034168d07         True 2016-11-02 14:35:59   \n",
              "2  a5d5f69d-cf2c-4963-af15-a06ada66bcd9         True 2016-11-02 14:36:01   \n",
              "\n",
              "   event_end    session_end_time  \n",
              "0       True 2016-11-02 15:11:30  \n",
              "1       True 2016-11-02 15:00:14  \n",
              "2       True 2016-11-02 14:45:24  "
            ],
            "text/html": [
              "\n",
              "  <div id=\"df-b7874bdb-bd46-4923-aef1-471e798aeaa0\">\n",
              "    <div class=\"colab-df-container\">\n",
              "      <div>\n",
              "<style scoped>\n",
              "    .dataframe tbody tr th:only-of-type {\n",
              "        vertical-align: middle;\n",
              "    }\n",
              "\n",
              "    .dataframe tbody tr th {\n",
              "        vertical-align: top;\n",
              "    }\n",
              "\n",
              "    .dataframe thead th {\n",
              "        text-align: right;\n",
              "    }\n",
              "</style>\n",
              "<table border=\"1\" class=\"dataframe\">\n",
              "  <thead>\n",
              "    <tr style=\"text-align: right;\">\n",
              "      <th></th>\n",
              "      <th>player_id</th>\n",
              "      <th>country</th>\n",
              "      <th>session_id</th>\n",
              "      <th>event_start</th>\n",
              "      <th>session_start_time</th>\n",
              "      <th>event_end</th>\n",
              "      <th>session_end_time</th>\n",
              "    </tr>\n",
              "  </thead>\n",
              "  <tbody>\n",
              "    <tr>\n",
              "      <th>0</th>\n",
              "      <td>f31432131e56427d8b75338a2b4f8048</td>\n",
              "      <td>IQ</td>\n",
              "      <td>d2063b29-2a82-49b3-9642-93d52f3198df</td>\n",
              "      <td>True</td>\n",
              "      <td>2016-11-02 14:35:53</td>\n",
              "      <td>True</td>\n",
              "      <td>2016-11-02 15:11:30</td>\n",
              "    </tr>\n",
              "    <tr>\n",
              "      <th>1</th>\n",
              "      <td>aba0274a926a4ccdb94876c8e4dcb0c6</td>\n",
              "      <td>MF</td>\n",
              "      <td>7ff15b72-a2a3-4abb-8c3e-354034168d07</td>\n",
              "      <td>True</td>\n",
              "      <td>2016-11-02 14:35:59</td>\n",
              "      <td>True</td>\n",
              "      <td>2016-11-02 15:00:14</td>\n",
              "    </tr>\n",
              "    <tr>\n",
              "      <th>2</th>\n",
              "      <td>adc13c0804874368bd8660cdad928042</td>\n",
              "      <td>SX</td>\n",
              "      <td>a5d5f69d-cf2c-4963-af15-a06ada66bcd9</td>\n",
              "      <td>True</td>\n",
              "      <td>2016-11-02 14:36:01</td>\n",
              "      <td>True</td>\n",
              "      <td>2016-11-02 14:45:24</td>\n",
              "    </tr>\n",
              "  </tbody>\n",
              "</table>\n",
              "</div>\n",
              "      <button class=\"colab-df-convert\" onclick=\"convertToInteractive('df-b7874bdb-bd46-4923-aef1-471e798aeaa0')\"\n",
              "              title=\"Convert this dataframe to an interactive table.\"\n",
              "              style=\"display:none;\">\n",
              "        \n",
              "  <svg xmlns=\"http://www.w3.org/2000/svg\" height=\"24px\"viewBox=\"0 0 24 24\"\n",
              "       width=\"24px\">\n",
              "    <path d=\"M0 0h24v24H0V0z\" fill=\"none\"/>\n",
              "    <path d=\"M18.56 5.44l.94 2.06.94-2.06 2.06-.94-2.06-.94-.94-2.06-.94 2.06-2.06.94zm-11 1L8.5 8.5l.94-2.06 2.06-.94-2.06-.94L8.5 2.5l-.94 2.06-2.06.94zm10 10l.94 2.06.94-2.06 2.06-.94-2.06-.94-.94-2.06-.94 2.06-2.06.94z\"/><path d=\"M17.41 7.96l-1.37-1.37c-.4-.4-.92-.59-1.43-.59-.52 0-1.04.2-1.43.59L10.3 9.45l-7.72 7.72c-.78.78-.78 2.05 0 2.83L4 21.41c.39.39.9.59 1.41.59.51 0 1.02-.2 1.41-.59l7.78-7.78 2.81-2.81c.8-.78.8-2.07 0-2.86zM5.41 20L4 18.59l7.72-7.72 1.47 1.35L5.41 20z\"/>\n",
              "  </svg>\n",
              "      </button>\n",
              "      \n",
              "  <style>\n",
              "    .colab-df-container {\n",
              "      display:flex;\n",
              "      flex-wrap:wrap;\n",
              "      gap: 12px;\n",
              "    }\n",
              "\n",
              "    .colab-df-convert {\n",
              "      background-color: #E8F0FE;\n",
              "      border: none;\n",
              "      border-radius: 50%;\n",
              "      cursor: pointer;\n",
              "      display: none;\n",
              "      fill: #1967D2;\n",
              "      height: 32px;\n",
              "      padding: 0 0 0 0;\n",
              "      width: 32px;\n",
              "    }\n",
              "\n",
              "    .colab-df-convert:hover {\n",
              "      background-color: #E2EBFA;\n",
              "      box-shadow: 0px 1px 2px rgba(60, 64, 67, 0.3), 0px 1px 3px 1px rgba(60, 64, 67, 0.15);\n",
              "      fill: #174EA6;\n",
              "    }\n",
              "\n",
              "    [theme=dark] .colab-df-convert {\n",
              "      background-color: #3B4455;\n",
              "      fill: #D2E3FC;\n",
              "    }\n",
              "\n",
              "    [theme=dark] .colab-df-convert:hover {\n",
              "      background-color: #434B5C;\n",
              "      box-shadow: 0px 1px 3px 1px rgba(0, 0, 0, 0.15);\n",
              "      filter: drop-shadow(0px 1px 2px rgba(0, 0, 0, 0.3));\n",
              "      fill: #FFFFFF;\n",
              "    }\n",
              "  </style>\n",
              "\n",
              "      <script>\n",
              "        const buttonEl =\n",
              "          document.querySelector('#df-b7874bdb-bd46-4923-aef1-471e798aeaa0 button.colab-df-convert');\n",
              "        buttonEl.style.display =\n",
              "          google.colab.kernel.accessAllowed ? 'block' : 'none';\n",
              "\n",
              "        async function convertToInteractive(key) {\n",
              "          const element = document.querySelector('#df-b7874bdb-bd46-4923-aef1-471e798aeaa0');\n",
              "          const dataTable =\n",
              "            await google.colab.kernel.invokeFunction('convertToInteractive',\n",
              "                                                     [key], {});\n",
              "          if (!dataTable) return;\n",
              "\n",
              "          const docLinkHtml = 'Like what you see? Visit the ' +\n",
              "            '<a target=\"_blank\" href=https://colab.research.google.com/notebooks/data_table.ipynb>data table notebook</a>'\n",
              "            + ' to learn more about interactive tables.';\n",
              "          element.innerHTML = '';\n",
              "          dataTable['output_type'] = 'display_data';\n",
              "          await google.colab.output.renderOutput(dataTable, element);\n",
              "          const docLink = document.createElement('div');\n",
              "          docLink.innerHTML = docLinkHtml;\n",
              "          element.appendChild(docLink);\n",
              "        }\n",
              "      </script>\n",
              "    </div>\n",
              "  </div>\n",
              "  "
            ]
          },
          "metadata": {},
          "execution_count": 15
        }
      ]
    },
    {
      "cell_type": "code",
      "source": [
        "df_res.info()"
      ],
      "metadata": {
        "colab": {
          "base_uri": "https://localhost:8080/"
        },
        "id": "qDM5gaJgX9uE",
        "outputId": "ae580beb-01a8-4c95-ff0f-d05b16b58824"
      },
      "execution_count": 16,
      "outputs": [
        {
          "output_type": "stream",
          "name": "stdout",
          "text": [
            "<class 'pandas.core.frame.DataFrame'>\n",
            "Int64Index: 500587 entries, 0 to 500586\n",
            "Data columns (total 7 columns):\n",
            " #   Column              Non-Null Count   Dtype         \n",
            "---  ------              --------------   -----         \n",
            " 0   player_id           500587 non-null  object        \n",
            " 1   country             498214 non-null  object        \n",
            " 2   session_id          500587 non-null  object        \n",
            " 3   event_start         500587 non-null  bool          \n",
            " 4   session_start_time  500584 non-null  datetime64[ns]\n",
            " 5   event_end           500587 non-null  bool          \n",
            " 6   session_end_time    500585 non-null  datetime64[ns]\n",
            "dtypes: bool(2), datetime64[ns](2), object(3)\n",
            "memory usage: 23.9+ MB\n"
          ]
        }
      ]
    },
    {
      "cell_type": "code",
      "source": [
        "df_res.dtypes"
      ],
      "metadata": {
        "colab": {
          "base_uri": "https://localhost:8080/"
        },
        "id": "LL83lTMD1GIT",
        "outputId": "581fad84-0c57-4f42-9161-327f12b5f038"
      },
      "execution_count": 17,
      "outputs": [
        {
          "output_type": "execute_result",
          "data": {
            "text/plain": [
              "player_id                     object\n",
              "country                       object\n",
              "session_id                    object\n",
              "event_start                     bool\n",
              "session_start_time    datetime64[ns]\n",
              "event_end                       bool\n",
              "session_end_time      datetime64[ns]\n",
              "dtype: object"
            ]
          },
          "metadata": {},
          "execution_count": 17
        }
      ]
    },
    {
      "cell_type": "code",
      "source": [
        "# Сравниваем обьем памяти занимаемый входным и обработанным наборами данных\n",
        "\n",
        "size_of_df = sys.getsizeof(df)\n",
        "size_of_df_res = sys.getsizeof(df_res)\n",
        "\n",
        "print(f'Start size: {size_of_df} байта.\\nNew size {size_of_df_res} байта.\\n')\n",
        "\n",
        "print(size_of_df / size_of_df_res)"
      ],
      "metadata": {
        "colab": {
          "base_uri": "https://localhost:8080/"
        },
        "id": "G8NVNTEaeJDL",
        "outputId": "acedd97c-3fe1-4ac5-8e51-ee40e069a648"
      },
      "execution_count": 18,
      "outputs": [
        {
          "output_type": "stream",
          "name": "stdout",
          "text": [
            "Start size: 372880928 байта.\n",
            "New size 133602010 байта.\n",
            "\n",
            "2.790982920092295\n"
          ]
        }
      ]
    },
    {
      "cell_type": "code",
      "source": [
        "# Сравниваем размер входного и обработанного набора данных\n",
        "\n",
        "len_of_df = len(df)\n",
        "len_of_df_res = len(df_res)\n",
        "\n",
        "print(f'Start size: {len_of_df} строк.\\nNew size {len_of_df_res} строк.')\n",
        "\n",
        "print(len_of_df / len_of_df_res)"
      ],
      "metadata": {
        "colab": {
          "base_uri": "https://localhost:8080/"
        },
        "id": "9tH6ACN5eJAN",
        "outputId": "289fb196-d8dd-40b4-cbf8-3e85e1769e20"
      },
      "execution_count": 19,
      "outputs": [
        {
          "output_type": "stream",
          "name": "stdout",
          "text": [
            "Start size: 1001169 строк.\n",
            "New size 500587 строк.\n",
            "1.9999900117262335\n"
          ]
        }
      ]
    },
    {
      "cell_type": "code",
      "source": [
        "# Замеряем время записи объекта в файл типа csv\n",
        "\n",
        "start_time = timeit.default_timer()\n",
        "df_res.to_csv('/content/gdrive/MyDrive/Alabuga/df_res.csv')\n",
        "csv_writing_time = timeit.default_timer() - start_time\n",
        "\n",
        "print(f'{csv_writing_time} sec.')"
      ],
      "metadata": {
        "colab": {
          "base_uri": "https://localhost:8080/"
        },
        "id": "o8pSWzwRFY8w",
        "outputId": "b68334c5-df37-45da-e875-1919cbe902ea"
      },
      "execution_count": 20,
      "outputs": [
        {
          "output_type": "stream",
          "name": "stdout",
          "text": [
            "5.191506688999652 sec.\n"
          ]
        }
      ]
    },
    {
      "cell_type": "code",
      "source": [
        "# Замеряем время записи объекта в файл типа xlsx\n",
        "\n",
        "start_time = timeit.default_timer()\n",
        "df_res.to_excel('/content/gdrive/MyDrive/Alabuga/df_res.xlsx')\n",
        "xlsx_writing_time = timeit.default_timer() - start_time\n",
        "\n",
        "print(f'{xlsx_writing_time} sec.')"
      ],
      "metadata": {
        "colab": {
          "base_uri": "https://localhost:8080/"
        },
        "id": "bnNyrujADBOK",
        "outputId": "bd3659bc-9b18-4504-f2f4-f3e3ad9cafc6"
      },
      "execution_count": 21,
      "outputs": [
        {
          "output_type": "stream",
          "name": "stdout",
          "text": [
            "160.74656501500067 sec.\n"
          ]
        }
      ]
    },
    {
      "cell_type": "code",
      "source": [
        "# Разница временных затрат записи файлов типа xlsx и csv\n",
        "xlsx_writing_time / csv_writing_time"
      ],
      "metadata": {
        "colab": {
          "base_uri": "https://localhost:8080/"
        },
        "id": "she57oB2g8WI",
        "outputId": "0ea5032c-d3f2-46e4-f1c6-61e7cd725dd8"
      },
      "execution_count": 22,
      "outputs": [
        {
          "output_type": "execute_result",
          "data": {
            "text/plain": [
              "30.96337434286824"
            ]
          },
          "metadata": {},
          "execution_count": 22
        }
      ]
    },
    {
      "cell_type": "markdown",
      "source": [
        "1. Сколько сеансов в наборе данных?"
      ],
      "metadata": {
        "id": "8sc5CNcFUU8I"
      }
    },
    {
      "cell_type": "code",
      "source": [
        "df_res['session_id'].nunique() "
      ],
      "metadata": {
        "id": "m4X_M9zcSLRm",
        "colab": {
          "base_uri": "https://localhost:8080/"
        },
        "outputId": "5bc431eb-4e81-4b70-ae39-d6ca06618893"
      },
      "execution_count": 23,
      "outputs": [
        {
          "output_type": "execute_result",
          "data": {
            "text/plain": [
              "500587"
            ]
          },
          "metadata": {},
          "execution_count": 23
        }
      ]
    },
    {
      "cell_type": "markdown",
      "source": [
        "2. Сколько сеансов завершается в каждой стране? Выведите 10 лучших результатов, отсортированных по\n",
        "количеству (DESC) и стране (ASC)."
      ],
      "metadata": {
        "id": "zJffB3AtUZfR"
      }
    },
    {
      "cell_type": "code",
      "source": [
        "df_res.groupby('country', as_index=False).event_start.count() \\\n",
        "                                          .sort_values(by=['event_start', 'country'], ascending=False, ignore_index=True)\\\n",
        "                                          .rename(columns = {'event_start' : 'sessions_count'})\\\n",
        "                                          .head(10)"
      ],
      "metadata": {
        "id": "dqRBWe6tSLOz",
        "colab": {
          "base_uri": "https://localhost:8080/",
          "height": 363
        },
        "outputId": "35f33a01-9818-4da3-f7b5-adc38b628518"
      },
      "execution_count": 24,
      "outputs": [
        {
          "output_type": "execute_result",
          "data": {
            "text/plain": [
              "  country  sessions_count\n",
              "0      IT            2839\n",
              "1      SH            2672\n",
              "2      AZ            2670\n",
              "3      AT            2655\n",
              "4      WF            2616\n",
              "5      VA            2602\n",
              "6      HU            2584\n",
              "7      IL            2563\n",
              "8      RO            2550\n",
              "9      KR            2535"
            ],
            "text/html": [
              "\n",
              "  <div id=\"df-eae978df-b368-4649-bfca-0fb85f1bf95a\">\n",
              "    <div class=\"colab-df-container\">\n",
              "      <div>\n",
              "<style scoped>\n",
              "    .dataframe tbody tr th:only-of-type {\n",
              "        vertical-align: middle;\n",
              "    }\n",
              "\n",
              "    .dataframe tbody tr th {\n",
              "        vertical-align: top;\n",
              "    }\n",
              "\n",
              "    .dataframe thead th {\n",
              "        text-align: right;\n",
              "    }\n",
              "</style>\n",
              "<table border=\"1\" class=\"dataframe\">\n",
              "  <thead>\n",
              "    <tr style=\"text-align: right;\">\n",
              "      <th></th>\n",
              "      <th>country</th>\n",
              "      <th>sessions_count</th>\n",
              "    </tr>\n",
              "  </thead>\n",
              "  <tbody>\n",
              "    <tr>\n",
              "      <th>0</th>\n",
              "      <td>IT</td>\n",
              "      <td>2839</td>\n",
              "    </tr>\n",
              "    <tr>\n",
              "      <th>1</th>\n",
              "      <td>SH</td>\n",
              "      <td>2672</td>\n",
              "    </tr>\n",
              "    <tr>\n",
              "      <th>2</th>\n",
              "      <td>AZ</td>\n",
              "      <td>2670</td>\n",
              "    </tr>\n",
              "    <tr>\n",
              "      <th>3</th>\n",
              "      <td>AT</td>\n",
              "      <td>2655</td>\n",
              "    </tr>\n",
              "    <tr>\n",
              "      <th>4</th>\n",
              "      <td>WF</td>\n",
              "      <td>2616</td>\n",
              "    </tr>\n",
              "    <tr>\n",
              "      <th>5</th>\n",
              "      <td>VA</td>\n",
              "      <td>2602</td>\n",
              "    </tr>\n",
              "    <tr>\n",
              "      <th>6</th>\n",
              "      <td>HU</td>\n",
              "      <td>2584</td>\n",
              "    </tr>\n",
              "    <tr>\n",
              "      <th>7</th>\n",
              "      <td>IL</td>\n",
              "      <td>2563</td>\n",
              "    </tr>\n",
              "    <tr>\n",
              "      <th>8</th>\n",
              "      <td>RO</td>\n",
              "      <td>2550</td>\n",
              "    </tr>\n",
              "    <tr>\n",
              "      <th>9</th>\n",
              "      <td>KR</td>\n",
              "      <td>2535</td>\n",
              "    </tr>\n",
              "  </tbody>\n",
              "</table>\n",
              "</div>\n",
              "      <button class=\"colab-df-convert\" onclick=\"convertToInteractive('df-eae978df-b368-4649-bfca-0fb85f1bf95a')\"\n",
              "              title=\"Convert this dataframe to an interactive table.\"\n",
              "              style=\"display:none;\">\n",
              "        \n",
              "  <svg xmlns=\"http://www.w3.org/2000/svg\" height=\"24px\"viewBox=\"0 0 24 24\"\n",
              "       width=\"24px\">\n",
              "    <path d=\"M0 0h24v24H0V0z\" fill=\"none\"/>\n",
              "    <path d=\"M18.56 5.44l.94 2.06.94-2.06 2.06-.94-2.06-.94-.94-2.06-.94 2.06-2.06.94zm-11 1L8.5 8.5l.94-2.06 2.06-.94-2.06-.94L8.5 2.5l-.94 2.06-2.06.94zm10 10l.94 2.06.94-2.06 2.06-.94-2.06-.94-.94-2.06-.94 2.06-2.06.94z\"/><path d=\"M17.41 7.96l-1.37-1.37c-.4-.4-.92-.59-1.43-.59-.52 0-1.04.2-1.43.59L10.3 9.45l-7.72 7.72c-.78.78-.78 2.05 0 2.83L4 21.41c.39.39.9.59 1.41.59.51 0 1.02-.2 1.41-.59l7.78-7.78 2.81-2.81c.8-.78.8-2.07 0-2.86zM5.41 20L4 18.59l7.72-7.72 1.47 1.35L5.41 20z\"/>\n",
              "  </svg>\n",
              "      </button>\n",
              "      \n",
              "  <style>\n",
              "    .colab-df-container {\n",
              "      display:flex;\n",
              "      flex-wrap:wrap;\n",
              "      gap: 12px;\n",
              "    }\n",
              "\n",
              "    .colab-df-convert {\n",
              "      background-color: #E8F0FE;\n",
              "      border: none;\n",
              "      border-radius: 50%;\n",
              "      cursor: pointer;\n",
              "      display: none;\n",
              "      fill: #1967D2;\n",
              "      height: 32px;\n",
              "      padding: 0 0 0 0;\n",
              "      width: 32px;\n",
              "    }\n",
              "\n",
              "    .colab-df-convert:hover {\n",
              "      background-color: #E2EBFA;\n",
              "      box-shadow: 0px 1px 2px rgba(60, 64, 67, 0.3), 0px 1px 3px 1px rgba(60, 64, 67, 0.15);\n",
              "      fill: #174EA6;\n",
              "    }\n",
              "\n",
              "    [theme=dark] .colab-df-convert {\n",
              "      background-color: #3B4455;\n",
              "      fill: #D2E3FC;\n",
              "    }\n",
              "\n",
              "    [theme=dark] .colab-df-convert:hover {\n",
              "      background-color: #434B5C;\n",
              "      box-shadow: 0px 1px 3px 1px rgba(0, 0, 0, 0.15);\n",
              "      filter: drop-shadow(0px 1px 2px rgba(0, 0, 0, 0.3));\n",
              "      fill: #FFFFFF;\n",
              "    }\n",
              "  </style>\n",
              "\n",
              "      <script>\n",
              "        const buttonEl =\n",
              "          document.querySelector('#df-eae978df-b368-4649-bfca-0fb85f1bf95a button.colab-df-convert');\n",
              "        buttonEl.style.display =\n",
              "          google.colab.kernel.accessAllowed ? 'block' : 'none';\n",
              "\n",
              "        async function convertToInteractive(key) {\n",
              "          const element = document.querySelector('#df-eae978df-b368-4649-bfca-0fb85f1bf95a');\n",
              "          const dataTable =\n",
              "            await google.colab.kernel.invokeFunction('convertToInteractive',\n",
              "                                                     [key], {});\n",
              "          if (!dataTable) return;\n",
              "\n",
              "          const docLinkHtml = 'Like what you see? Visit the ' +\n",
              "            '<a target=\"_blank\" href=https://colab.research.google.com/notebooks/data_table.ipynb>data table notebook</a>'\n",
              "            + ' to learn more about interactive tables.';\n",
              "          element.innerHTML = '';\n",
              "          dataTable['output_type'] = 'display_data';\n",
              "          await google.colab.output.renderOutput(dataTable, element);\n",
              "          const docLink = document.createElement('div');\n",
              "          docLink.innerHTML = docLinkHtml;\n",
              "          element.appendChild(docLink);\n",
              "        }\n",
              "      </script>\n",
              "    </div>\n",
              "  </div>\n",
              "  "
            ]
          },
          "metadata": {},
          "execution_count": 24
        }
      ]
    },
    {
      "cell_type": "markdown",
      "source": [
        "3. Сколько сессий завершает каждый игрок? Выведите 10 лучших результатов, отсортированных по\n",
        "count(DESC) и player_id(ASC)."
      ],
      "metadata": {
        "id": "DgXSuVOJvhQc"
      }
    },
    {
      "cell_type": "code",
      "source": [
        "df_res.groupby('player_id', as_index=False).event_start.count() \\\n",
        "                                          .sort_values(by=['event_start', 'player_id'], ascending=False, ignore_index=True)\\\n",
        "                                          .rename(columns = {'event_start' : 'event_count'})\\\n",
        "                                          .head(10)"
      ],
      "metadata": {
        "colab": {
          "base_uri": "https://localhost:8080/",
          "height": 363
        },
        "id": "qgRGzXwTWBLz",
        "outputId": "44ece9a5-7369-4d18-b447-3b3c57b8bd9e"
      },
      "execution_count": 25,
      "outputs": [
        {
          "output_type": "execute_result",
          "data": {
            "text/plain": [
              "                          player_id  event_count\n",
              "0  fec6a0b9b7f143d8b45221bcc965dfde           50\n",
              "1  fec32bc801d4497298d0bd781b9c701d           50\n",
              "2  fea372b3b016474fa96b62da9c7fade1           50\n",
              "3  fe9ed795e00a43219bac48977041f62a           50\n",
              "4  fe67ba34f8ef48edae14218fba8f7ef9           50\n",
              "5  fe4b6d22080449148b9e0b1b17d72d35           50\n",
              "6  fe3822c6dd3b4af0b50ac897fa2aa46e           50\n",
              "7  fdae77dd943947ea8f5b7970c17baf3c           50\n",
              "8  fd9a7f6f335745fdbe0f13f92000e43e           50\n",
              "9  fd640311b9ff4d96ba0deb5a3cab25f6           50"
            ],
            "text/html": [
              "\n",
              "  <div id=\"df-f36cc28a-3e69-47bc-96e8-cf6ae820d5f9\">\n",
              "    <div class=\"colab-df-container\">\n",
              "      <div>\n",
              "<style scoped>\n",
              "    .dataframe tbody tr th:only-of-type {\n",
              "        vertical-align: middle;\n",
              "    }\n",
              "\n",
              "    .dataframe tbody tr th {\n",
              "        vertical-align: top;\n",
              "    }\n",
              "\n",
              "    .dataframe thead th {\n",
              "        text-align: right;\n",
              "    }\n",
              "</style>\n",
              "<table border=\"1\" class=\"dataframe\">\n",
              "  <thead>\n",
              "    <tr style=\"text-align: right;\">\n",
              "      <th></th>\n",
              "      <th>player_id</th>\n",
              "      <th>event_count</th>\n",
              "    </tr>\n",
              "  </thead>\n",
              "  <tbody>\n",
              "    <tr>\n",
              "      <th>0</th>\n",
              "      <td>fec6a0b9b7f143d8b45221bcc965dfde</td>\n",
              "      <td>50</td>\n",
              "    </tr>\n",
              "    <tr>\n",
              "      <th>1</th>\n",
              "      <td>fec32bc801d4497298d0bd781b9c701d</td>\n",
              "      <td>50</td>\n",
              "    </tr>\n",
              "    <tr>\n",
              "      <th>2</th>\n",
              "      <td>fea372b3b016474fa96b62da9c7fade1</td>\n",
              "      <td>50</td>\n",
              "    </tr>\n",
              "    <tr>\n",
              "      <th>3</th>\n",
              "      <td>fe9ed795e00a43219bac48977041f62a</td>\n",
              "      <td>50</td>\n",
              "    </tr>\n",
              "    <tr>\n",
              "      <th>4</th>\n",
              "      <td>fe67ba34f8ef48edae14218fba8f7ef9</td>\n",
              "      <td>50</td>\n",
              "    </tr>\n",
              "    <tr>\n",
              "      <th>5</th>\n",
              "      <td>fe4b6d22080449148b9e0b1b17d72d35</td>\n",
              "      <td>50</td>\n",
              "    </tr>\n",
              "    <tr>\n",
              "      <th>6</th>\n",
              "      <td>fe3822c6dd3b4af0b50ac897fa2aa46e</td>\n",
              "      <td>50</td>\n",
              "    </tr>\n",
              "    <tr>\n",
              "      <th>7</th>\n",
              "      <td>fdae77dd943947ea8f5b7970c17baf3c</td>\n",
              "      <td>50</td>\n",
              "    </tr>\n",
              "    <tr>\n",
              "      <th>8</th>\n",
              "      <td>fd9a7f6f335745fdbe0f13f92000e43e</td>\n",
              "      <td>50</td>\n",
              "    </tr>\n",
              "    <tr>\n",
              "      <th>9</th>\n",
              "      <td>fd640311b9ff4d96ba0deb5a3cab25f6</td>\n",
              "      <td>50</td>\n",
              "    </tr>\n",
              "  </tbody>\n",
              "</table>\n",
              "</div>\n",
              "      <button class=\"colab-df-convert\" onclick=\"convertToInteractive('df-f36cc28a-3e69-47bc-96e8-cf6ae820d5f9')\"\n",
              "              title=\"Convert this dataframe to an interactive table.\"\n",
              "              style=\"display:none;\">\n",
              "        \n",
              "  <svg xmlns=\"http://www.w3.org/2000/svg\" height=\"24px\"viewBox=\"0 0 24 24\"\n",
              "       width=\"24px\">\n",
              "    <path d=\"M0 0h24v24H0V0z\" fill=\"none\"/>\n",
              "    <path d=\"M18.56 5.44l.94 2.06.94-2.06 2.06-.94-2.06-.94-.94-2.06-.94 2.06-2.06.94zm-11 1L8.5 8.5l.94-2.06 2.06-.94-2.06-.94L8.5 2.5l-.94 2.06-2.06.94zm10 10l.94 2.06.94-2.06 2.06-.94-2.06-.94-.94-2.06-.94 2.06-2.06.94z\"/><path d=\"M17.41 7.96l-1.37-1.37c-.4-.4-.92-.59-1.43-.59-.52 0-1.04.2-1.43.59L10.3 9.45l-7.72 7.72c-.78.78-.78 2.05 0 2.83L4 21.41c.39.39.9.59 1.41.59.51 0 1.02-.2 1.41-.59l7.78-7.78 2.81-2.81c.8-.78.8-2.07 0-2.86zM5.41 20L4 18.59l7.72-7.72 1.47 1.35L5.41 20z\"/>\n",
              "  </svg>\n",
              "      </button>\n",
              "      \n",
              "  <style>\n",
              "    .colab-df-container {\n",
              "      display:flex;\n",
              "      flex-wrap:wrap;\n",
              "      gap: 12px;\n",
              "    }\n",
              "\n",
              "    .colab-df-convert {\n",
              "      background-color: #E8F0FE;\n",
              "      border: none;\n",
              "      border-radius: 50%;\n",
              "      cursor: pointer;\n",
              "      display: none;\n",
              "      fill: #1967D2;\n",
              "      height: 32px;\n",
              "      padding: 0 0 0 0;\n",
              "      width: 32px;\n",
              "    }\n",
              "\n",
              "    .colab-df-convert:hover {\n",
              "      background-color: #E2EBFA;\n",
              "      box-shadow: 0px 1px 2px rgba(60, 64, 67, 0.3), 0px 1px 3px 1px rgba(60, 64, 67, 0.15);\n",
              "      fill: #174EA6;\n",
              "    }\n",
              "\n",
              "    [theme=dark] .colab-df-convert {\n",
              "      background-color: #3B4455;\n",
              "      fill: #D2E3FC;\n",
              "    }\n",
              "\n",
              "    [theme=dark] .colab-df-convert:hover {\n",
              "      background-color: #434B5C;\n",
              "      box-shadow: 0px 1px 3px 1px rgba(0, 0, 0, 0.15);\n",
              "      filter: drop-shadow(0px 1px 2px rgba(0, 0, 0, 0.3));\n",
              "      fill: #FFFFFF;\n",
              "    }\n",
              "  </style>\n",
              "\n",
              "      <script>\n",
              "        const buttonEl =\n",
              "          document.querySelector('#df-f36cc28a-3e69-47bc-96e8-cf6ae820d5f9 button.colab-df-convert');\n",
              "        buttonEl.style.display =\n",
              "          google.colab.kernel.accessAllowed ? 'block' : 'none';\n",
              "\n",
              "        async function convertToInteractive(key) {\n",
              "          const element = document.querySelector('#df-f36cc28a-3e69-47bc-96e8-cf6ae820d5f9');\n",
              "          const dataTable =\n",
              "            await google.colab.kernel.invokeFunction('convertToInteractive',\n",
              "                                                     [key], {});\n",
              "          if (!dataTable) return;\n",
              "\n",
              "          const docLinkHtml = 'Like what you see? Visit the ' +\n",
              "            '<a target=\"_blank\" href=https://colab.research.google.com/notebooks/data_table.ipynb>data table notebook</a>'\n",
              "            + ' to learn more about interactive tables.';\n",
              "          element.innerHTML = '';\n",
              "          dataTable['output_type'] = 'display_data';\n",
              "          await google.colab.output.renderOutput(dataTable, element);\n",
              "          const docLink = document.createElement('div');\n",
              "          docLink.innerHTML = docLinkHtml;\n",
              "          element.appendChild(docLink);\n",
              "        }\n",
              "      </script>\n",
              "    </div>\n",
              "  </div>\n",
              "  "
            ]
          },
          "metadata": {},
          "execution_count": 25
        }
      ]
    },
    {
      "cell_type": "markdown",
      "source": [
        "4. В какой стране в 2016 году было начато наибольшее количество сеансов?"
      ],
      "metadata": {
        "id": "ykCEfokWwTpf"
      }
    },
    {
      "cell_type": "code",
      "source": [
        "df_res['Year'] = df_res['session_start_time'].dt.strftime('%Y')"
      ],
      "metadata": {
        "id": "sxwbSsev9zhk"
      },
      "execution_count": 26,
      "outputs": []
    },
    {
      "cell_type": "code",
      "source": [
        "df_res[(df_res['event_start'] == True) & (df_res['Year'] == '2016')].groupby('country', as_index=False) \\\n",
        "                                                                        .session_id.count() \\\n",
        "                                                                        .rename(columns={'session_id' : 'session_id_count' }) \\\n",
        "                                                                        .max()"
      ],
      "metadata": {
        "colab": {
          "base_uri": "https://localhost:8080/"
        },
        "id": "MO6k30Qjw8ID",
        "outputId": "baf89c7d-3273-4031-d4e2-47eee2a2717d"
      },
      "execution_count": 27,
      "outputs": [
        {
          "output_type": "execute_result",
          "data": {
            "text/plain": [
              "country               ZW\n",
              "session_id_count    2839\n",
              "dtype: object"
            ]
          },
          "metadata": {},
          "execution_count": 27
        }
      ]
    },
    {
      "cell_type": "markdown",
      "source": [
        "5. График завершенных сеансов  по странам. Гистограмма 10 лучших результатов, отсортированных по\n",
        "количеству (DESC) и стране (ASC)."
      ],
      "metadata": {
        "id": "YbKYgU1O0vPZ"
      }
    },
    {
      "cell_type": "code",
      "source": [
        "df_res.groupby('country', as_index=False).event_end.count() \\\n",
        "                                          .sort_values(by=['event_end', 'country'], ascending=False, ignore_index=True)\\\n",
        "                                          .rename(columns = {'event_end' : 'sessions_count'})\\\n",
        "                                          .hist()"
      ],
      "metadata": {
        "colab": {
          "base_uri": "https://localhost:8080/",
          "height": 428
        },
        "id": "jPGZFZtQxOIt",
        "outputId": "7a2c3758-0946-459d-f698-071a67806427"
      },
      "execution_count": 28,
      "outputs": [
        {
          "output_type": "execute_result",
          "data": {
            "text/plain": [
              "array([[<matplotlib.axes._subplots.AxesSubplot object at 0x7f5056fdd2b0>]],\n",
              "      dtype=object)"
            ]
          },
          "metadata": {},
          "execution_count": 28
        },
        {
          "output_type": "display_data",
          "data": {
            "text/plain": [
              "<Figure size 648x432 with 1 Axes>"
            ],
            "image/png": "[encoded data removed]"
          },
          "metadata": {}
        }
      ]
    }
  ]
}